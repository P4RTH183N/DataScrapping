{
 "cells": [
  {
   "cell_type": "code",
   "execution_count": null,
   "metadata": {},
   "outputs": [],
   "source": [
    "from selenium import webdriver\n",
    "from bs4 import BeautifulSoup\n",
    "import pandas as pd\n",
    "driver = webdriver.Chrome(executable_path=r'C:/webdrivers/chromedriver.exe')"
   ]
  },
  {
   "cell_type": "code",
   "execution_count": null,
   "metadata": {},
   "outputs": [],
   "source": [
    "base_url = 'https://forum.lowyat.net/topic/4939767' # base_url\n",
    "pages = ['','/+20','/+40','/+60','/+80','/+100','/+120','/+140','/+160','/+180','/+200',\n",
    "        '/+220','/+240','/+260','/+280','/+300','/+320','/+340','/+360','/+380','/+400',\n",
    "        '/+420','/+440','/+460','/+480','/+500','/+520','/+540','/+560','/+580','/+600',\n",
    "        '/+620','/+640','/+660','/+680','/+700','/+720','/+740','/+760','/+780','/+800',\n",
    "        '/+820','/+840','/+860','/+880','/+900','/+920','/+940','/+960','/+980','/+1000',\n",
    "        '/+1020','/+1040','/+1060','/+1080','/+1100','/+1120','/+1140','/+1160','/+1180',\n",
    "        '/+1200','/+1220','/+1240','/+1260','/+1280','/+1300','/+1320','/+1340','/+1360',\n",
    "        '/+1380','/+1400','/+1420','/+1440','/+1460','/+1480','/+1500','/+1520','/+1540',\n",
    "        '/+1560','/+1580','/+1600'] # multiple page numbers"
   ]
  },
  {
   "cell_type": "code",
   "execution_count": null,
   "metadata": {},
   "outputs": [],
   "source": [
    "#for a in pages:\n",
    "#    print(base_url + a)"
   ]
  },
  {
   "cell_type": "code",
   "execution_count": null,
   "metadata": {},
   "outputs": [],
   "source": [
    "UserName=[]\n",
    "Datetime=[]\n",
    "comments=[] #List to store name of the comments\n",
    "qte=[]"
   ]
  },
  {
   "cell_type": "code",
   "execution_count": null,
   "metadata": {},
   "outputs": [],
   "source": [
    "Url = \"https://forum.lowyat.net/topic/4939767/+1600\"\n",
    "driver.get(Url)\n",
    "content = driver.page_source\n",
    "soup = BeautifulSoup(content)"
   ]
  },
  {
   "cell_type": "code",
   "execution_count": null,
   "metadata": {},
   "outputs": [],
   "source": [
    "for b in pages:\n",
    "    driver.get(base_url + b)\n",
    "    content = driver.page_source\n",
    "    soup = BeautifulSoup(content)\n",
    "    for a in soup.findAll('table',href=False, attrs={'class':'post_table'}):\n",
    "        dtetime = a.find('span', attrs={'class':'postdetails'}).getText()\n",
    "        uname = a.find('span', attrs={'class':'normalname'}).getText()\n",
    "        cmt = a.find('div', attrs={'class':'postcolor post_text'})\n",
    "        q = a.find('div', attrs={'class':'quotemain'})\n",
    "        Datetime.append(dtetime) \n",
    "        UserName.append(uname) \n",
    "        comments.append(cmt)\n",
    "        qte.append(q)"
   ]
  },
  {
   "cell_type": "code",
   "execution_count": null,
   "metadata": {},
   "outputs": [],
   "source": [
    "df = pd.DataFrame({'Datetime':Datetime,\n",
    "                   'UserName':UserName,\n",
    "                   'comments':comments,\n",
    "                   'Quote':qte})"
   ]
  },
  {
   "cell_type": "code",
   "execution_count": null,
   "metadata": {},
   "outputs": [],
   "source": [
    "df.head(n=5)"
   ]
  },
  {
   "cell_type": "code",
   "execution_count": null,
   "metadata": {},
   "outputs": [],
   "source": [
    "df.shape"
   ]
  },
  {
   "cell_type": "code",
   "execution_count": null,
   "metadata": {},
   "outputs": [],
   "source": [
    "df.to_csv('4939767.csv', index=False, encoding='utf-8')"
   ]
  }
 ],
 "metadata": {
  "kernelspec": {
   "display_name": "Python 3",
   "language": "python",
   "name": "python3"
  },
  "language_info": {
   "codemirror_mode": {
    "name": "ipython",
    "version": 3
   },
   "file_extension": ".py",
   "mimetype": "text/x-python",
   "name": "python",
   "nbconvert_exporter": "python",
   "pygments_lexer": "ipython3",
   "version": "3.7.1"
  }
 },
 "nbformat": 4,
 "nbformat_minor": 2
}
